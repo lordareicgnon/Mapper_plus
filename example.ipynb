{
 "cells": [
  {
   "cell_type": "code",
   "execution_count": 1,
   "metadata": {},
   "outputs": [
    {
     "name": "stdout",
     "output_type": "stream",
     "text": [
      "KeplerMapper(verbose=1)\n",
      "KeplerMapper(verbose=1)\n"
     ]
    },
    {
     "data": {
      "text/plain": [
       "<module 'mapper_plus' from \"/Users/esha/Library/CloudStorage/Box-Box/Modelers' Interesting Stuff/Codes/mapper_plus.py\">"
      ]
     },
     "execution_count": 1,
     "metadata": {},
     "output_type": "execute_result"
    }
   ],
   "source": [
    "##Import all necessary packages\n",
    "#general utility\n",
    "import pandas as pd\n",
    "import numpy as np\n",
    "import sklearn\n",
    "import csv\n",
    "import matplotlib.pyplot as plt \n",
    "import importlib \n",
    "importlib.reload(util)\n",
    "\n",
    "#necessary for specific lenses\n",
    "from sklearn import ensemble  \n",
    "from sklearn.decomposition import PCA \n",
    "\n",
    "#WLCF, KeplerMapper, and Mapper_Plus\n",
    "import mapper_plus as mp \n",
    "import kmapper as km \n",
    "import walk_likelihood as wl\n",
    "importlib.reload(mp)"
   ]
  },
  {
   "cell_type": "markdown",
   "metadata": {},
   "source": [
    "## First Dataset: Abalone\n",
    "The abalone dataset (https://archive.ics.uci.edu/ml/datasets/abalone) is a publicly available dataset with 4177 observations and 8 parameters. For the purpose of this example, we have provided a version of the dataset with all observations converted to z-scores."
   ]
  },
  {
   "cell_type": "code",
   "execution_count": 2,
   "metadata": {},
   "outputs": [
    {
     "data": {
      "text/plain": [
       "(4177, 8)"
      ]
     },
     "execution_count": 2,
     "metadata": {},
     "output_type": "execute_result"
    }
   ],
   "source": [
    "#Load in dataset\n",
    "X=np.load('Abalone_standardized.npy')\n",
    "X.shape  #needs to be n_observations x n_parameters"
   ]
  },
  {
   "cell_type": "code",
   "execution_count": 3,
   "metadata": {},
   "outputs": [
    {
     "name": "stdout",
     "output_type": "stream",
     "text": [
      "KeplerMapper(verbose=1)\n",
      "..Composing projection pipeline of length 1:\n",
      "\tProjections: PCA(n_components=2)\n",
      "\tDistance matrices: False\n",
      "\tScalers: MinMaxScaler()\n",
      "..Projecting on data shaped (4177, 8)\n",
      "\n",
      "..Projecting data using: \n",
      "\tPCA(n_components=2)\n",
      "\n",
      "\n",
      "..Scaling with: MinMaxScaler()\n",
      "\n",
      "..Composing projection pipeline of length 1:\n",
      "\tProjections: l2norm\n",
      "\tDistance matrices: False\n",
      "\tScalers: MinMaxScaler()\n",
      "..Projecting on data shaped (4177, 8)\n",
      "\n",
      "..Projecting data using: l2norm\n",
      "\n",
      "..Scaling with: MinMaxScaler()\n",
      "\n"
     ]
    }
   ],
   "source": [
    "## Define some lenses: we may not use all in analysis, but let's demonstrate some options\n",
    "mapper = km.KeplerMapper(verbose=1)\n",
    "lens1 = mapper.fit_transform(X,projection=PCA(n_components=2))\n",
    "lens2 = mapper.fit_transform(X,projection='l2norm')\n",
    "isomodel = ensemble.IsolationForest(random_state=1729)\n",
    "isomodel.fit(X)\n",
    "lens3 = isomodel.decision_function(X).reshape((X.shape[0], 1))"
   ]
  },
  {
   "cell_type": "code",
   "execution_count": 4,
   "metadata": {},
   "outputs": [],
   "source": [
    "##Define a cover\n",
    "#This hepler class comes from KeplerMapper and defines the covering scheme \n",
    "#Different choices of n_cubes (resolution) and perc_overlaping (gain) will give you different clustering results\n",
    "cover = km.Cover(n_cubes = 10, perc_overlap = 0.7)"
   ]
  },
  {
   "cell_type": "code",
   "execution_count": 5,
   "metadata": {},
   "outputs": [
    {
     "name": "stdout",
     "output_type": "stream",
     "text": [
      "Mapping on data shaped (4177, 8) using lens shaped (4177, 1)\n",
      "\n",
      "Creating 10 hypercubes.\n",
      "\n",
      "Created 17 edges and 10 nodes in 0:00:00.285916.\n",
      "We found 3 overlapping clusters\n",
      "We found 3 non-overlapping clusters\n"
     ]
    },
    {
     "data": {
      "text/plain": [
       "<walk_likelihood.walk_likelihood at 0x7f9ad23c53a0>"
      ]
     },
     "execution_count": 5,
     "metadata": {},
     "output_type": "execute_result"
    }
   ],
   "source": [
    "##Call Mapper Plus to get our clusters\n",
    "model=mp.mapper_plus()\n",
    "model.get_mapper_graph(lens2,X,cover=cover,clusterer=sklearn.cluster.KMeans(n_clusters=2, random_state=1618033),)\n",
    "model.get_overlapping_clusters()\n",
    "model.get_non_overlapping_clusters()"
   ]
  },
  {
   "cell_type": "code",
   "execution_count": 7,
   "metadata": {},
   "outputs": [],
   "source": [
    "#We can view which observations are in which clusters\n",
    "list_of_obvs = model.overlapping_clusters"
   ]
  },
  {
   "cell_type": "markdown",
   "metadata": {},
   "source": [
    "## Second Dataset: Wine\n",
    "The wine dataset (https://archive.ics.uci.edu/ml/datasets/wine) is a publicly available dataset with 178 wines and 13 parameters plus an additional wine class assignment. For this example, we load in a version of the wine dataset (without classes) that has been converted to z-scores and the classes separately. We can use the classes to test out different lenses."
   ]
  },
  {
   "cell_type": "code",
   "execution_count": 8,
   "metadata": {},
   "outputs": [
    {
     "data": {
      "text/plain": [
       "(178, 13)"
      ]
     },
     "execution_count": 8,
     "metadata": {},
     "output_type": "execute_result"
    }
   ],
   "source": [
    "#Load in dataset\n",
    "X=np.load('winestandardized.npy')\n",
    "y = np.load('wineclasses.npy')\n",
    "X.shape  #needs to be n_observations x n_parameters"
   ]
  },
  {
   "cell_type": "code",
   "execution_count": 9,
   "metadata": {},
   "outputs": [
    {
     "name": "stdout",
     "output_type": "stream",
     "text": [
      "KeplerMapper(verbose=1)\n",
      "..Composing projection pipeline of length 1:\n",
      "\tProjections: PCA(n_components=1)\n",
      "\tDistance matrices: False\n",
      "\tScalers: MinMaxScaler()\n",
      "..Projecting on data shaped (178, 13)\n",
      "\n",
      "..Projecting data using: \n",
      "\tPCA(n_components=1)\n",
      "\n",
      "\n",
      "..Scaling with: MinMaxScaler()\n",
      "\n",
      "..Composing projection pipeline of length 1:\n",
      "\tProjections: l2norm\n",
      "\tDistance matrices: False\n",
      "\tScalers: MinMaxScaler()\n",
      "..Projecting on data shaped (178, 13)\n",
      "\n",
      "..Projecting data using: l2norm\n",
      "\n",
      "..Scaling with: MinMaxScaler()\n",
      "\n"
     ]
    }
   ],
   "source": [
    "## Define some lenses: we may not use all in analysis, but let's demonstrate some options\n",
    "mapper = km.KeplerMapper(verbose=1)\n",
    "lens1 = mapper.fit_transform(X,projection=PCA(n_components=1))\n",
    "lens2 = mapper.fit_transform(X,projection='l2norm')\n",
    "isomodel = ensemble.IsolationForest(random_state=1729)\n",
    "isomodel.fit(X)\n",
    "lens3 = isomodel.decision_function(X).reshape((X.shape[0], 1))"
   ]
  },
  {
   "cell_type": "code",
   "execution_count": 10,
   "metadata": {},
   "outputs": [
    {
     "data": {
      "image/png": "[encoded data removed]",
      "text/plain": [
       "<Figure size 648x288 with 2 Axes>"
      ]
     },
     "metadata": {
      "needs_background": "light"
     },
     "output_type": "display_data"
    }
   ],
   "source": [
    "##This is a version of the 'Choosing a Lens' code from the Kepler Mapper docmentation that is really helpful \n",
    "##The keplermapper version can be found here: https://kepler-mapper.scikit-tda.org/en/latest/notebooks/Cancer-demo.html\n",
    "\n",
    "fig, axs = plt.subplots(1,2, figsize=(9,4))\n",
    "axs[0].scatter(lens1,lens2, c = y.reshape(-1,1), alpha=1)\n",
    "axs[0].set_xlabel('PCA First Component')\n",
    "axs[0].set_ylabel('L2 Norm')\n",
    "\n",
    "axs[1].scatter(lens2,lens3, c = y.reshape(-1,1), alpha=1)\n",
    "axs[1].set_xlabel('L2 Norm')\n",
    "axs[1].set_ylabel('Isolation Forest')\n",
    "\n",
    "plt.tight_layout()\n",
    "plt.show()"
   ]
  },
  {
   "cell_type": "markdown",
   "metadata": {},
   "source": [
    "We can see that the classes of wines are better separated using the PCA First Component and L2 norm than they are using L2 Norm and Isolation Forest. In fact, the shape of the L2 norm x Isolation Forest plot shows that the two lenses we are using provide more or less the same information. Given that we're interested in lenses that separate our classes, we may prefer the first pair of lenses over the second. "
   ]
  },
  {
   "cell_type": "code",
   "execution_count": 11,
   "metadata": {},
   "outputs": [],
   "source": [
    "#Since we've determined which two lenses we'll use, let's concatenate them into one 2-D lens\n",
    "lens = np.c_[lens1, lens2]"
   ]
  },
  {
   "cell_type": "code",
   "execution_count": 12,
   "metadata": {},
   "outputs": [],
   "source": [
    "##Define a cover\n",
    "cover = km.Cover(n_cubes = 6, perc_overlap = 0.6)"
   ]
  },
  {
   "cell_type": "code",
   "execution_count": 13,
   "metadata": {},
   "outputs": [
    {
     "name": "stdout",
     "output_type": "stream",
     "text": [
      "Mapping on data shaped (178, 13) using lens shaped (178, 2)\n",
      "\n",
      "Creating 36 hypercubes.\n",
      "\n",
      "Created 520 edges and 70 nodes in 0:00:01.382319.\n",
      "We found 4 overlapping clusters\n",
      "We found 4 non-overlapping clusters\n"
     ]
    },
    {
     "data": {
      "text/plain": [
       "<walk_likelihood.walk_likelihood at 0x7f9ac1655e80>"
      ]
     },
     "execution_count": 13,
     "metadata": {},
     "output_type": "execute_result"
    }
   ],
   "source": [
    "##Call Mapper Plus to get our clusters\n",
    "model=mp.mapper_plus()\n",
    "model.get_mapper_graph(lens,X,cover=cover,clusterer=sklearn.cluster.KMeans(n_clusters=2, random_state=1618033),)\n",
    "model.get_overlapping_clusters()\n",
    "model.get_non_overlapping_clusters()"
   ]
  },
  {
   "cell_type": "code",
   "execution_count": null,
   "metadata": {},
   "outputs": [],
   "source": []
  }
 ],
 "metadata": {
  "kernelspec": {
   "display_name": "Python 3 (ipykernel)",
   "language": "python",
   "name": "python3"
  },
  "language_info": {
   "codemirror_mode": {
    "name": "ipython",
    "version": 3
   },
   "file_extension": ".py",
   "mimetype": "text/x-python",
   "name": "python",
   "nbconvert_exporter": "python",
   "pygments_lexer": "ipython3",
   "version": "3.9.7"
  }
 },
 "nbformat": 4,
 "nbformat_minor": 4
}
