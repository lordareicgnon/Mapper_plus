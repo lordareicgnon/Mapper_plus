{
 "cells": [
  {
   "cell_type": "code",
   "execution_count": 1,
   "metadata": {},
   "outputs": [],
   "source": [
    "import pandas as pd\n",
    "import numpy as np\n",
    "import kmapper as km\n",
    "import sklearn\n",
    "from sklearn import ensemble\n",
    "from sklearn.decomposition import PCA\n",
    "from scipy import stats\n",
    "import csv\n",
    "from scipy.stats import hypergeom\n",
    "import matplotlib.pyplot as plt\n",
    "import importlib \n",
    "import utility as util\n",
    "importlib.reload(util)\n",
    "import walk_likelihood as wl"
   ]
  },
  {
   "cell_type": "code",
   "execution_count": 2,
   "metadata": {},
   "outputs": [],
   "source": [
    "X=np.load('Abalone_standardized.npy')"
   ]
  },
  {
   "cell_type": "code",
   "execution_count": null,
   "metadata": {},
   "outputs": [
    {
     "name": "stdout",
     "output_type": "stream",
     "text": [
      "KeplerMapper(verbose=1)\n",
      "KeplerMapper(verbose=1)\n",
      "..Composing projection pipeline of length 1:\n",
      "\tProjections: PCA(n_components=2)\n",
      "\tDistance matrices: False\n",
      "\tScalers: MinMaxScaler()\n",
      "..Projecting on data shaped (4177, 8)\n",
      "\n",
      "..Projecting data using: \n",
      "\tPCA(n_components=2)\n",
      "\n",
      "\n",
      "..Scaling with: MinMaxScaler()\n",
      "\n",
      "Mapping on data shaped (4177, 8) using lens shaped (4177, 2)\n",
      "\n",
      "Creating 25 hypercubes.\n",
      "\n",
      "Created 446 edges and 50 nodes in 0:00:01.091790.\n",
      "We found 4 overlapping clusters\n"
     ]
    }
   ],
   "source": [
    "import mapper_plus as mp\n",
    "importlib.reload(mp)\n",
    "model=mp.mapper_plus(X)\n",
    "model.lens(projection=PCA(n_components=2)) \n",
    "#arguements exactly same as mapper.fit_transform except for no need to include data\n",
    "model.get_mapper_graph(cover=km.Cover(n_cubes=5,perc_overlap=0.7),clusterer=sklearn.cluster.KMeans(n_clusters=2, random_state=1618033),)\n",
    "#arguements exactly same as mapper.map except for no need to include lens, data\n",
    "model.get_overlapping_clusters()\n",
    "model.get_non_overlapping_clusters()"
   ]
  }
 ],
 "metadata": {
  "kernelspec": {
   "display_name": "Python 3",
   "language": "python",
   "name": "python3"
  },
  "language_info": {
   "codemirror_mode": {
    "name": "ipython",
    "version": 3
   },
   "file_extension": ".py",
   "mimetype": "text/x-python",
   "name": "python",
   "nbconvert_exporter": "python",
   "pygments_lexer": "ipython3",
   "version": "3.8.5"
  }
 },
 "nbformat": 4,
 "nbformat_minor": 4
}
